{
  "nbformat": 4,
  "nbformat_minor": 0,
  "metadata": {
    "colab": {
      "name": "Copy of Traffic Detection.ipynb",
      "provenance": [],
      "collapsed_sections": [],
      "include_colab_link": true
    },
    "kernelspec": {
      "display_name": "Python 3",
      "name": "python3"
    },
    "language_info": {
      "name": "python"
    }
  },
  "cells": [
    {
      "cell_type": "markdown",
      "metadata": {
        "id": "view-in-github",
        "colab_type": "text"
      },
      "source": [
        "<a href=\"https://colab.research.google.com/github/geethasrisykam/Traffic_Detection/blob/main/Copy_of_Traffic_Detection.ipynb\" target=\"_parent\"><img src=\"https://colab.research.google.com/assets/colab-badge.svg\" alt=\"Open In Colab\"/></a>"
      ]
    },
    {
      "cell_type": "code",
      "metadata": {
        "colab": {
          "base_uri": "https://localhost:8080/"
        },
        "id": "n5sHm_xKRGGi",
        "outputId": "53751e76-828b-4994-9678-bf0c8eeeb384"
      },
      "source": [
        "from google.colab import drive\n",
        "drive.mount('/content/drive') "
      ],
      "execution_count": 1,
      "outputs": [
        {
          "output_type": "stream",
          "text": [
            "Mounted at /content/drive\n"
          ],
          "name": "stdout"
        }
      ]
    },
    {
      "cell_type": "code",
      "metadata": {
        "id": "n9I_HJmkTszk"
      },
      "source": [
        "!unzip /content/drive/MyDrive/archive.zip"
      ],
      "execution_count": null,
      "outputs": []
    },
    {
      "cell_type": "code",
      "metadata": {
        "id": "3jW0eX61LvJa"
      },
      "source": [
        "import numpy as np  \n",
        "import pandas as pd \n",
        "import matplotlib.pyplot as plt \n",
        "import tensorflow as tf \n",
        "from PIL import Image \n",
        "import os \n",
        "from tensorflow.keras.utils import to_categorical\n",
        "from sklearn.model_selection import train_test_split\n",
        "\n",
        "    "
      ],
      "execution_count": 13,
      "outputs": []
    },
    {
      "cell_type": "markdown",
      "metadata": {
        "id": "R3KEfTn9nRND"
      },
      "source": [
        ""
      ]
    },
    {
      "cell_type": "code",
      "metadata": {
        "id": "OTjWsGtmIrtk"
      },
      "source": [
        "data = [] \n",
        "labels = [] \n",
        "classes = 43 \n",
        "cur_path = os.getcwd()\n",
        "\n",
        "for i in range(classes): \n",
        "  path = os.path.join(cur_path, 'train', str(i))\n",
        "  images = os.listdir(path)\n",
        "\n",
        "  for a in images: \n",
        "    try: \n",
        "      image = Image.open (path+'/'+a)\n",
        "      image = image.resize((30,30))\n",
        "      image = np.array(image)\n",
        "      data.append(image)\n",
        "      labels.append (i)\n",
        "    except: \n",
        "      print(\"Error loading image\")\n",
        "data = np.array(data)\n",
        "labels = np.array(labels) "
      ],
      "execution_count": 25,
      "outputs": []
    },
    {
      "cell_type": "code",
      "metadata": {
        "colab": {
          "base_uri": "https://localhost:8080/"
        },
        "id": "k7vZH_pWV2xb",
        "outputId": "8ea64b63-4f21-4d3c-e089-a7edcc4ca086"
      },
      "source": [
        "print(data.shape, labels.shape)"
      ],
      "execution_count": 26,
      "outputs": [
        {
          "output_type": "stream",
          "text": [
            "(39209, 30, 30, 3) (39209,)\n"
          ],
          "name": "stdout"
        }
      ]
    },
    {
      "cell_type": "code",
      "metadata": {
        "colab": {
          "base_uri": "https://localhost:8080/"
        },
        "id": "nqy4MYSJOhS6",
        "outputId": "78522da2-1031-4151-d37d-e2c370a58792"
      },
      "source": [
        "X_train, X_test, y_train, y_test = train_test_split(data, labels, test_size=0.35, random_state=42)\n",
        "print(X_train.shape, X_test.shape, y_train.shape, y_test.shape)\n",
        "y_train = to_categorical(y_train, 43)\n",
        "y_test = to_categorical(y_test, 43)"
      ],
      "execution_count": 29,
      "outputs": [
        {
          "output_type": "stream",
          "text": [
            "(25485, 30, 30, 3) (13724, 30, 30, 3) (25485,) (13724,)\n"
          ],
          "name": "stdout"
        }
      ]
    },
    {
      "cell_type": "code",
      "metadata": {
        "id": "mkHj6SuG5NDl"
      },
      "source": [
        "from keras.models import Sequential, load_model\n",
        "from keras.layers import Conv2D, MaxPool2D, Dense, Flatten, Dropout\n",
        "model = Sequential()\n",
        "model.add(Conv2D(filters=32, kernel_size=(3,3), activation='relu', input_shape=X_train.shape[1:]))\n",
        "model.add(Conv2D(filters=32, kernel_size=(3,3), activation='relu'))\n",
        "model.add(MaxPool2D(pool_size=(2, 2)))\n",
        "model.add(Dropout(rate=0.25))\n",
        "\n",
        "model.add(Conv2D(filters=64, kernel_size=(3, 3), activation='relu'))\n",
        "model.add(Conv2D(filters=64, kernel_size=(3, 3), activation='relu'))\n",
        "model.add(MaxPool2D(pool_size=(2, 2)))\n",
        "model.add(Dropout(rate=0.25))\n",
        "\n",
        "\n",
        "model.add(Conv2D(filters=32, kernel_size=(2, 2), activation='relu'))\n",
        "model.add(Conv2D(filters=32, kernel_size=(2, 2), activation='relu'))\n",
        "model.add(MaxPool2D(pool_size=(2, 2)))\n",
        "model.add(Dropout(rate=0.25))\n",
        "\n",
        "model.add(Flatten())\n",
        "model.add(Dense(256, activation='relu'))\n",
        "model.add(Dropout(rate=0.5))\n",
        "model.add(Dense(43, activation='softmax'))"
      ],
      "execution_count": 30,
      "outputs": []
    },
    {
      "cell_type": "code",
      "metadata": {
        "colab": {
          "base_uri": "https://localhost:8080/"
        },
        "id": "-cZphUd-Q5dW",
        "outputId": "ba668a31-6a7b-465e-9034-9b482cdf1ac5"
      },
      "source": [
        "model.compile(loss='categorical_crossentropy', optimizer='adam', metrics=['accuracy'])\n",
        "epochs = 15\n",
        "history = model.fit(X_train, y_train, batch_size=32, epochs=epochs, validation_data=(X_test, y_test))\n",
        "\n"
      ],
      "execution_count": 31,
      "outputs": [
        {
          "output_type": "stream",
          "text": [
            "Epoch 1/15\n",
            "797/797 [==============================] - 73s 90ms/step - loss: 3.8337 - accuracy: 0.1122 - val_loss: 1.9341 - val_accuracy: 0.3894\n",
            "Epoch 2/15\n",
            "797/797 [==============================] - 71s 89ms/step - loss: 1.9653 - accuracy: 0.3863 - val_loss: 1.2814 - val_accuracy: 0.5964\n",
            "Epoch 3/15\n",
            "797/797 [==============================] - 71s 89ms/step - loss: 1.4707 - accuracy: 0.5267 - val_loss: 0.6418 - val_accuracy: 0.7909\n",
            "Epoch 4/15\n",
            "797/797 [==============================] - 71s 89ms/step - loss: 0.9862 - accuracy: 0.6827 - val_loss: 0.4417 - val_accuracy: 0.8565\n",
            "Epoch 5/15\n",
            "797/797 [==============================] - 71s 89ms/step - loss: 0.7244 - accuracy: 0.7689 - val_loss: 0.3162 - val_accuracy: 0.9065\n",
            "Epoch 6/15\n",
            "797/797 [==============================] - 71s 89ms/step - loss: 0.5851 - accuracy: 0.8165 - val_loss: 0.2305 - val_accuracy: 0.9291\n",
            "Epoch 7/15\n",
            "797/797 [==============================] - 71s 89ms/step - loss: 0.5260 - accuracy: 0.8430 - val_loss: 0.1424 - val_accuracy: 0.9626\n",
            "Epoch 8/15\n",
            "797/797 [==============================] - 71s 89ms/step - loss: 0.4650 - accuracy: 0.8613 - val_loss: 0.1515 - val_accuracy: 0.9602\n",
            "Epoch 9/15\n",
            "797/797 [==============================] - 71s 89ms/step - loss: 0.4297 - accuracy: 0.8726 - val_loss: 0.1071 - val_accuracy: 0.9722\n",
            "Epoch 10/15\n",
            "797/797 [==============================] - 71s 89ms/step - loss: 0.3969 - accuracy: 0.8872 - val_loss: 0.1066 - val_accuracy: 0.9709\n",
            "Epoch 11/15\n",
            "797/797 [==============================] - 71s 89ms/step - loss: 0.3558 - accuracy: 0.9006 - val_loss: 0.1152 - val_accuracy: 0.9666\n",
            "Epoch 12/15\n",
            "797/797 [==============================] - 70s 88ms/step - loss: 0.3245 - accuracy: 0.9076 - val_loss: 0.1230 - val_accuracy: 0.9666\n",
            "Epoch 13/15\n",
            "797/797 [==============================] - 70s 88ms/step - loss: 0.3395 - accuracy: 0.9040 - val_loss: 0.0844 - val_accuracy: 0.9768\n",
            "Epoch 14/15\n",
            "797/797 [==============================] - 71s 89ms/step - loss: 0.2846 - accuracy: 0.9202 - val_loss: 0.0930 - val_accuracy: 0.9755\n",
            "Epoch 15/15\n",
            "797/797 [==============================] - 70s 88ms/step - loss: 0.2930 - accuracy: 0.9199 - val_loss: 0.0808 - val_accuracy: 0.9787\n"
          ],
          "name": "stdout"
        }
      ]
    },
    {
      "cell_type": "code",
      "metadata": {
        "colab": {
          "base_uri": "https://localhost:8080/"
        },
        "id": "2Z6YG4EQZtvd",
        "outputId": "c69d4698-6d72-478f-a257-3c70517974ed"
      },
      "source": [
        "from sklearn.metrics import accuracy_score\n",
        "y_test = pd.read_csv('Test.csv')\n",
        "labels = y_test[\"ClassId\"].values\n",
        "imgs = y_test[\"Path\"].values\n",
        "data=[]\n",
        "for img in imgs:\n",
        "    image = Image.open(img)\n",
        "    image = image.resize((30,30))\n",
        "    data.append(np.array(image))\n",
        "X_test=np.array(data)\n",
        "\n",
        "pred = model.predict_classes(X_test)\n",
        "print(accuracy_score(labels, pred))\n",
        "model.save('traffic_classifier.h5')\n"
      ],
      "execution_count": 32,
      "outputs": [
        {
          "output_type": "stream",
          "text": [
            "/usr/local/lib/python3.7/dist-packages/keras/engine/sequential.py:450: UserWarning: `model.predict_classes()` is deprecated and will be removed after 2021-01-01. Please use instead:* `np.argmax(model.predict(x), axis=-1)`,   if your model does multi-class classification   (e.g. if it uses a `softmax` last-layer activation).* `(model.predict(x) > 0.5).astype(\"int32\")`,   if your model does binary classification   (e.g. if it uses a `sigmoid` last-layer activation).\n",
            "  warnings.warn('`model.predict_classes()` is deprecated and '\n"
          ],
          "name": "stderr"
        },
        {
          "output_type": "stream",
          "text": [
            "0.953285827395091\n"
          ],
          "name": "stdout"
        }
      ]
    },
    {
      "cell_type": "code",
      "metadata": {
        "id": "mfH64LsAdjj3"
      },
      "source": [
        ""
      ],
      "execution_count": null,
      "outputs": []
    }
  ]
}